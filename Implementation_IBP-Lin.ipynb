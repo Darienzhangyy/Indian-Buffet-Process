{
 "cells": [
  {
   "cell_type": "markdown",
   "metadata": {},
   "source": [
    "## Abstract"
   ]
  },
  {
   "cell_type": "markdown",
   "metadata": {},
   "source": [
    "By unveiling the latent variables that can generate observed properties of objects is one of the most fundamental issues in unsupervised learning. However, one of the crucial problems of unsupervised learning algorithms is to detect the latent structure. In K-means problem for example, we need to determine the number of clusters. One classic way is by performing model selection, while the other way is to use a Bayesian nonparametric method. One important method of Bayesian nonparametric method is the Indian buffet process (IBP), which is a stochastic process that provides a probability distribution over equivalence classes of binary matrices of bounded rows and potentially infinite columns. \n",
    "\n",
    "In this report, we first implement the Indian buffet process by Gibbs sampling and Metropolis-Hasting algorithm in python. For improvement in efficiency, we perform matrix calculation optimization indicated from Griffiths&Ghahramani's complete paper[1] and utilize parallel programming, JIT and Cython to decrease the computation duration. Moreover, we use check the validity and effectiveness of our acceleration and optimization."
   ]
  },
  {
   "cell_type": "code",
   "execution_count": 1,
   "metadata": {
    "collapsed": true
   },
   "outputs": [],
   "source": [
    "import math\n",
    "import numpy as np\n",
    "import time\n",
    "def timer(f, *args, **kwargs):\n",
    "    start = time.clock()\n",
    "    ans = f(*args, **kwargs)\n",
    "    return ans, time.clock() - start\n",
    "def report(fs, *args, **kwargs):\n",
    "    ans, t = timer(fs[0], *args, **kwargs)\n",
    "    print('%s: %.1f' % (fs[0].__name__, 1.0))  \n",
    "    for f in fs[1:]:\n",
    "        ans_, t_ = timer(f, *args, **kwargs)\n",
    "        print('%s: %.1f' % (f.__name__, t/t_))"
   ]
  },
  {
   "cell_type": "markdown",
   "metadata": {},
   "source": [
    "## 1. Introduction: Indian Buffet Process"
   ]
  },
  {
   "cell_type": "markdown",
   "metadata": {},
   "source": [
    "Indian restaurants in London offer buffets with an apparently infinite number of dishes. Indian buffet process (IBP) is a distribution over infinite binary matrices, specifying how customers (objects) choose dishes (features).\n",
    "\n",
    "N customers enter a restaurant one after another. Each customer is exposed to a buffet consisting of infinitely many dishes arranged in a line. The first customer starts at the left of the buffet and takes a serving from each dish, stopping after certain number of dishes which follows a Poisson($\\alpha$) distribution. The ith customer moves along the buffet, sampling dishes based on their \"popularity\". The ith customer takes dish k with probability $\\frac{m_k}{i}$, where $m_k$ is the number of previous customers who have sampled that dish. Having reached the end of all previous sampled dishes, the ith customer then tries a Poisson($\\frac{\\alpha}{i}$) number of new dishes. In conclusion, except the first customer(object), all the following customers(objects)'s choice can be divided into two parts. The first part depends on all the previous information and can be treated as Bernoulli trials, while the second part goes beyond the number of dishes from before and the number of \"new dishes\" follows a Poisson distribution with a new rate of $\\frac{\\alpha}{i}$.\n",
    "\n",
    "We can indicate which customers chose which dishes using a binary matrix Z with N rows and infinitely many columns, where $z_{ik}$ = 1 if the ith customer sampled the kth dish. "
   ]
  },
  {
   "cell_type": "markdown",
   "metadata": {},
   "source": [
    "<img src=\"IBPfigure6.png\">"
   ]
  },
  {
   "cell_type": "markdown",
   "metadata": {},
   "source": [
    "## 2. Algorithm Implementation"
   ]
  },
  {
   "cell_type": "code",
   "execution_count": null,
   "metadata": {
    "collapsed": true
   },
   "outputs": [],
   "source": []
  },
  {
   "cell_type": "markdown",
   "metadata": {},
   "source": [
    "### 2.1 Data"
   ]
  },
  {
   "cell_type": "markdown",
   "metadata": {},
   "source": [
    "#### 2.1.1 Data structure"
   ]
  },
  {
   "cell_type": "markdown",
   "metadata": {},
   "source": [
    "\n",
    "\n",
    "* Feature binary matrix Z with entry either 0 or 1\n",
    "\n",
    "* Number of new features $K_{new}$ having a Poisson distribution\n",
    "\n",
    "* Parameter $\\alpha$: $K_{new}$'s distribution parameter\n",
    "\n",
    "* $\\sigma^2_X$: Covariance of Gaussian Distribution on x\n",
    "\n",
    "* $\\sigma^2_A$: Covariance of Gaussian Distribution prior on A\n"
   ]
  },
  {
   "cell_type": "markdown",
   "metadata": {},
   "source": [
    "#### 2.1.2 Data Simulation"
   ]
  },
  {
   "cell_type": "markdown",
   "metadata": {},
   "source": [
    "To implement the example in the paper before optimization, we have followed the quotation below from the original paper to generate data. "
   ]
  },
  {
   "cell_type": "markdown",
   "metadata": {},
   "source": [
    "\"As a first demonstration of the ability of this algorithm to recover the latent structure responsible\n",
    "for having generated observed data, we applied the Gibbs sampler for the infinite linear-Gaussian\n",
    "model to a simulated data set consisting of 100 6×6 images, each generated by randomly assigning\n",
    "a feature to each image to a class with probability 0.5, and taking a linear combination of the\n",
    "weights associated with features to which the images were assigned (a similar data set was used by\n",
    "Ghahramani, 1995).  The non-zero elements of A were all equal to 1.0, and σX was set to\n",
    "0.5, introducing a large amount of noise. The data were generated from a model with K+ = 4 \""
   ]
  },
  {
   "cell_type": "markdown",
   "metadata": {
    "collapsed": true
   },
   "source": [
    "The \"A\" is constructed based on the example in a more complete paper by the same authors we find called \"The Indian Buffet Process: An Introduction and Review\" (Griffiths&Ghahramani, 2011). We have used this as a supplement to the given paper for enhancing our understanding of IBP. We have also used a trick in calculating the inverse as described in the paper when we imlement IBP later in this report."
   ]
  },
  {
   "cell_type": "code",
   "execution_count": 12,
   "metadata": {
    "collapsed": false
   },
   "outputs": [],
   "source": [
    "%%file scripts/data_initialization.py\n",
    "import numpy as np\n",
    "np.random.seed(124)\n",
    "N = 100 \n",
    "K_plus = 4 \n",
    "D = 36 \n",
    "sigmaX = 0.5\n",
    "sigmaA = 0.5\n",
    "# Simulated data\n",
    "A = np.array(( 0, 0, 0, 0, 0, 0, 0, 0, 0, 0, 0, 0, 0, 0, 0, 0, 0, 0, 0, 1, 0, 0, 0, 0, 1, 1, 1, 0, 0, 0, 0, 1, 0, 0, 0, 0, \\\n",
    "             0, 0, 0, 0, 0, 0, 0, 0, 0, 0, 0, 0, 0, 0, 0, 0, 0, 0,0, 0, 0,1, 1, 1,0, 0, 0,  1, 0, 1, 0, 0, 0, 1, 1, 1,    \\\n",
    "             1, 1, 1, 0, 0, 0, 1, 1, 0, 0, 0, 0, 1, 0, 0, 0, 0, 0, 0, 0, 0, 0, 0,0, 0, 0, 0, 0,0, 0, 0, 0, 0,0 ,0, 0, \\\n",
    "             0, 0, 0, 0, 1, 0, 0, 0, 0, 0, 1,0, 0, 0, 0,1, 1, 1, 0, 0, 0, 0, 0, 0, 0, 0, 0, 0, 0, 0, 0, 0, 0, 0, 0, 0)).reshape(4, D)\n",
    "\n",
    "Z_zero = np.zeros((N, K_plus))\n",
    "X = np.zeros((N, D))\n",
    "I = np.identity(D) * sigmaX\n",
    "\n",
    "for i in range(N):\n",
    "    Z_zero[i,:] = (np.random.uniform(0,1,K_plus) > .5).astype(int)\n",
    "    while (np.sum(Z_zero[i,:]) == 0):\n",
    "        Z_zero[i,:] = (np.random.uniform(0,1,K_plus) > .5).astype(int)\n",
    "    X[i,:] = np.random.normal(0,1, (1,D)).dot(I)+Z_zero[i,:].dot(A)\n",
    "\n",
    "np.save(\"data/X_initialized\", X)\n",
    "np.save(\"data/A_initialized\", A)"
   ]
  },
  {
   "cell_type": "markdown",
   "metadata": {},
   "source": [
    "### Algorithm for Metropolis Hastings\n",
    "#### Priors"
   ]
  },
  {
   "cell_type": "markdown",
   "metadata": {},
   "source": [
    "#### Infinite latent feature model (likelihood)\n",
    "In our finite model, the $D$-dimensional vector of properties of an object i, $x_i$ is generated from a Gaussian distribution with mean $z_iA$ and covariance matrix $\\Sigma X = \\sigma^2_X $ I, where $z_i$ is a $K$-dimensional binary vector, and A is a $K$ $\\times$ $D$ matrix of weights. In matrix notation, E[X] = ZA. If Z is a feature matrix, this is a form of binary factor analysis. The distribution of X given Z, A, and $\\sigma$ X is matrix Gaussian with mean ZA and covariance matrix $\\sigma^2_X$ I, where I is the identity matrix. The prior on A is also matrix Gaussian, with mean 0 and covariance matrix $\\sigma^2_X$ I. Integrating out A, we have:\n",
    "\n",
    "\\begin{multline}\n",
    "P(X|Z,\\sigma_X, \\sigma_A) = \\frac{1}{(2 \\pi)^{ND/2} (\\sigma_X)^{(N-K)D}(\\sigma_A)^{KD}(|Z^TZ+\\frac{\\sigma_X^2}{\\sigma_A^2}I|)^{D/2}}\\\\exp\\{-\\frac{1}{2\\sigma_X^2}tr(X^T(I-Z(Z^TZ+\\frac{\\sigma_X^2}{\\sigma_A^2}I)^{-1}Z^T)X)\\}\n",
    "\\end{multline}"
   ]
  },
  {
   "cell_type": "code",
   "execution_count": 2,
   "metadata": {
    "collapsed": false
   },
   "outputs": [],
   "source": [
    "%%file scripts/original_functions.py\n",
    "#prior of IBP\n",
    "import math\n",
    "def IBP_prior(alpha, N):\n",
    "    import numpy as np\n",
    "    res = np.zeros((N, 1000))\n",
    "\n",
    "    #First person\n",
    "    temp = np.random.poisson(alpha)\n",
    "    if temp > 0:\n",
    "        res[0,0:temp] = np.ones(temp)\n",
    "\n",
    "    #the rest with Bernoulli + Poisson\n",
    "    K_plus = temp\n",
    "    for i in range(1,N):\n",
    "        for j in range(K_plus):\n",
    "            p = np.sum(res[0:i,j])/(i+1)\n",
    "    #sample as Bernoulli with rate m_k/i\n",
    "            if np.random.uniform(0,1) < p:\n",
    "                res[i,j] = 1\n",
    "    #The \"untouched\" dishes are got from poisson distribution with rate alpha/i\n",
    "        temp = np.random.poisson(alpha/(i+1))\n",
    "    #None zero\n",
    "        if temp > 0:\n",
    "    #The \"new dishes\", silimar logic as the very first person\n",
    "            res[i, K_plus : K_plus + temp] = np.ones(temp)\n",
    "    #length of new person's first few \"bernoulli\" choice \n",
    "            K_plus = K_plus + temp\n",
    "    \n",
    "    res = res[:,0:K_plus]\n",
    "    return np.array((res, K_plus))\n",
    "\n",
    "# define a log likelihood function \n",
    "def log_p_origin(X, Z, sigmaX, sigmaA, K, D, N):\n",
    "    import numpy as np\n",
    "    return (-1)*np.log(2*np.pi)*N*D*.5 - np.log(sigmaX)*(N-K)*D - np.log(sigmaA)*K*D - .5*D*np.log(np.linalg.det(Z.T.dot(Z)+(sigmaX**2/sigmaA**2)*np.identity(K))) -.5/(sigmaX**2)*np.trace( (X.T.dot( np.identity(N)-Z.dot(np.linalg.inv(Z.T.dot(Z)+(sigmaX**2/sigmaA**2)*np.identity(K)).dot(Z.T)) )).dot(X) )\n",
    "\n",
    "\n",
    "# define a log likelihood function \n",
    "def log_p(X, Z, sigmaX, sigmaA, K, D, N):\n",
    "    import numpy as np\n",
    "    M = Z.T.dot(Z)+(sigmaX**2/sigmaA**2)*np.identity(K)\n",
    "    return (-1)*np.log(2*np.pi)*N*D*.5 - np.log(sigmaX)*(N-K)*D - np.log(sigmaA)*K*D - .5*D*np.log(np.linalg.det(M)) -.5/(sigmaX**2)*np.trace( (X.T.dot( np.identity(N)-Z.dot(np.linalg.inv(M).dot(Z.T)) )).dot(X) )\n",
    "\n",
    "def calcInverse(Z,M,i,k):\n",
    "    import numpy as np\n",
    "    \"\"\"New inverse calculation as described in Griffiths and Ghahramani(2011)\"\"\"\n",
    "    M_i = M - M.dot(Z[i,:].T.dot(Z[i,:].dot(M)))/(Z[i,:].dot(M.dot(Z[i,:].T))-1)\n",
    "    M = M_i - M_i.dot(Z[i,:].T.dot(Z[i,:].dot(M_i)))/(Z[i,:].dot(M_i.dot(Z[i,:].T))+1)\n",
    "    Inv = M\n",
    "    return Inv"
   ]
  },
  {
   "cell_type": "markdown",
   "metadata": {},
   "source": [
    "#### Gibbs Samplers and Metropolis Algorithm\n",
    "\n",
    "Full conditional posterior for Z is:\n",
    "$$P(z_{ik}|X,Z_{-(i,k),},\\sigma_X,\\sigma_A) \\propto  P(X|Z,\\sigma_X, \\sigma_A) P(z_{ik}=1|\\textbf{z}_{-i,k}) $$\n"
   ]
  },
  {
   "cell_type": "markdown",
   "metadata": {},
   "source": [
    "The full (posterior) conditional distribution is\n",
    "P(zik|X,Z−i,k,σX,σA) ∝ P(X|Z−i,k,σX,σA)P(zik|z−i,k) (6)\n",
    "When initializing the Gibbs sampler, set σA = 1,σX = 1,α ∼ Ga(1,1). Then the sampler does the following steps: (K in my code is denoted as K+, to differentiate it from the true value.)\n",
    "1. Generate P(zik|X,Z−i,k,σX,σA) using the full conditional distribution (a) Remove singular features (at most one object has it);\n",
    "decrease K+ by 1 for each feature removed (b) Determine each zik to be 0 or 1 by Metropolis\n",
    "(c) Add new features from Pois(α) i\n",
    "2. Sample σX∗ = σX + ε, where ε ∼ Unif(−0.05, 0.05), and accept σX∗ by Metropolis\n",
    "3. Sample σA∗ = σA + ε, where ε ∼ Unif(−0.05, 0.05), and accept σA∗ by Metropolis\n",
    "4. Generate α|Z ∼ Ga(1 + K+, 1 + 􏰀Ni=1 Hi), where K+ is the number of features with mk > 0\n",
    "The Metropolis part for σA is demonstrated as follows (similar case for σX): • Genenerate a candidate value σA∗ = σA + ε, with ε ∼ Unif(−0.05, 0.05) • Generate a random number r ∼ Unif(0, 1)\n",
    "• Accept σA∗ if r < min{1, P (σA∗ |Z, X, σX ) }, where σA is the current value P(σA|Z,X,σX)\n",
    "The candidate value σA∗ is always accepted when the likelihood ratio P (σA∗ |Z, X, σX ) is larger than 1, P(σA|Z,X,σX)\n",
    "i.e. P (σA∗ |Z, X, σX ) > P (σA|Z, X, σX ). Nevertheless, when the likelihood ratio is less than 1, there is still a non-zero probability to accept σA∗ , so the sampler can ”move forward”. Note that in my code, the log likelihoods are used in the following way:\n",
    "min{1, P(σA∗ |Z,X,σX)} = exp(min{0,log(P(σA∗ |Z,X,σX)) − log(P(σA|Z,X,σX))}) (7)\n",
    "Finally, the posterior expectation of A is:\n",
    "E(A|X,Z)=(ZZ+σA2I) ZX (8)\n",
    "This is denoted as Ainf, with size D × K+, and Ainf is the matrix of latent features (images) my code converges to. For the ith image, replace Z with only the ith row zi, and the resulting Ainf,i is the corresponding reversed image string (a linear combination of the K+ bases)."
   ]
  },
  {
   "cell_type": "code",
   "execution_count": 18,
   "metadata": {
    "collapsed": false
   },
   "outputs": [
    {
     "name": "stdout",
     "output_type": "stream",
     "text": [
      "Writing scripts/gibbs_sampler.py\n"
     ]
    }
   ],
   "source": [
    "%%file scripts/gibbs_sampler.py\n",
    "import numpy as np\n",
    "import math\n",
    "def Update_alpha(N,Kplus):\n",
    "    Harmonic_N = 0.\n",
    "    for i in range(1, N+1):\n",
    "        Harmonic_N += 1.0/i\n",
    "    alpha = np.random.gamma(1+Kplus, 1/(1+Harmonic_N))\n",
    "    return alpha\n",
    "\n",
    "def Update_sigmaA(X, Z, sigmaX, sigmaA, Kplus, D, N,Log_L1):\n",
    "    temp_unif1 = np.random.uniform(0,1)/30\n",
    "    if np.random.uniform(0,1) < .5:\n",
    "        sigmaA_new = sigmaA - temp_unif1\n",
    "    else:\n",
    "        sigmaA_new = sigmaA + temp_unif1\n",
    "\n",
    "    Log_L_New = log_p(X, Z, sigmaX, sigmaA_new, Kplus, D, N)\n",
    "    sigmaX_a = np.exp(min(0,Log_L_New-Log_L1))\n",
    "    U = np.random.uniform(0,1)\n",
    "    if U < sigmaX_a:\n",
    "        sigmaA = sigmaA_new\n",
    "    return sigmaA\n",
    "\n",
    "def Update_sigmaX(X, Z, sigmaX, sigmaA, Kplus, D, N,Log_L1):\n",
    "    temp_unif = np.random.uniform(0,1)/30\n",
    "    if np.random.uniform(0,1) < .5:\n",
    "        sigmaX_new = sigmaX - temp_unif\n",
    "    else:\n",
    "        sigmaX_new = sigmaX + temp_unif\n",
    "    Log_L_New = log_p(X, Z, sigmaX_new, sigmaA, Kplus, D, N)\n",
    "    sigmaX_a = np.exp(min(0,Log_L_New-Log_L1))       \n",
    "    U = np.random.uniform(0,1)\n",
    "    if U < sigmaX_a:\n",
    "        sigmaX = sigmaX_new\n",
    "    return(sigmaX)\n",
    "\n",
    "#M-H algorithm for Kplus\n",
    "#Sample number of new features\n",
    "def Update_Kplus(X,Z,maxNew,sigmaX, sigmaA,alpha,N,D,Kplus,log_p):\n",
    "    prob = np.zeros(maxNew)\n",
    "    alphaN = alpha/N     \n",
    "    for kNew in range(maxNew):\n",
    "        Z_temp = Z\n",
    "        if kNew > 0:\n",
    "            addCols = np.zeros((N,kNew))\n",
    "            addCols[i,:] = 1\n",
    "            Z_temp = np.hstack((Z_temp, addCols))\n",
    "\n",
    "        pois = kNew*np.log(alphaN) - alphaN - np.log(math.factorial(kNew))\n",
    "        kk = Kplus+kNew\n",
    "        lik = log_p(X, Z_temp, sigmaX, sigmaA, kk, D, N)\n",
    "        prob[kNew] = pois + lik\n",
    "    prob = np.exp(prob - max(prob))\n",
    "    prob = prob/sum(prob)\n",
    "\n",
    "    U = np.random.uniform(0,1)\n",
    "    p = 0\n",
    "    kNew=0\n",
    "    for new in range(maxNew):\n",
    "        p = p + prob[new]\n",
    "        if U < p:\n",
    "            kNew = new\n",
    "            break\n",
    "    if kNew > 0:\n",
    "        addCols = np.zeros((N,kNew))\n",
    "        addCols[i,:] = 1\n",
    "        Z = np.hstack((Z, addCols))\n",
    "    Kplus = Kplus + kNew\n",
    "    return Kplus,Z\n",
    "\n",
    "def Update_Z(i,X,Kplus,Z,sigmaX,sigmaA,D,N,log_p):\n",
    "    for k in range(Kplus):\n",
    "        if k >= Kplus:\n",
    "            break     \n",
    "        if Z[i,k] > 0:\n",
    "            if (np.sum(Z[:,k])- 1) <= 0:\n",
    "                Z[:,k:(Kplus-1)] = Z[:,(k+1):Kplus]\n",
    "                Kplus = Kplus-1\n",
    "                Z = Z[:,0:Kplus]\n",
    "                continue\n",
    "\n",
    "        #M-H algorithm for Z\n",
    "        P = np.zeros(2)\n",
    "        #set Z[i,k] = 0 and calculate posterior probability\n",
    "        Z[i,k] = 0\n",
    "        P[0] = log_p(X, Z, sigmaX, sigmaA, Kplus, D, N) + np.log(N-np.sum(Z[:,k])) - np.log(N)\n",
    "        #set Z[i,k] = 1 and calculate posterior probability\n",
    "        Z[i,k] = 1\n",
    "        P[1] = log_p(X, Z,sigmaX, sigmaA, Kplus, D, N)  + np.log(np.sum(Z[:,k])- 1) - np.log(N)\n",
    "\n",
    "        P = np.exp(P - max(P))\n",
    "        U = np.random.uniform(0,1)\n",
    "        if U<(P[1]/(np.sum(P))):\n",
    "            Z[i,k] = 1\n",
    "        else:\n",
    "            Z[i,k] = 0   \n",
    "    return Z,Kplus"
   ]
  },
  {
   "cell_type": "code",
   "execution_count": 19,
   "metadata": {
    "collapsed": false
   },
   "outputs": [
    {
     "name": "stdout",
     "output_type": "stream",
     "text": [
      "Writing scripts/original_sampler.py\n"
     ]
    }
   ],
   "source": [
    "%%file scripts/original_sampler.py\n",
    "import numpy as np\n",
    "from gibbs_sampler import Update_Z,Update_Kplus,Update_sigmaX,Update_sigmaA,Update_alpha\n",
    "from original_functions import log_p, IBP_prior, log_p_origin\n",
    "# Original sampler with either original likelihood or improved likelihood\n",
    "def sampler(X, niter, sigmaX, sigmaA,alpha, N, D, maxNew, log_p):\n",
    "\n",
    "#initialization\n",
    "    count=0\n",
    "    final_Z=np.zeros((niter,N,20))\n",
    "    final_K=np.zeros((niter,1))\n",
    "    final_sigma_X=np.zeros((niter,1))\n",
    "    final_sigma_A=np.zeros((niter,1))\n",
    "    final_alpha=np.zeros((niter,1))\n",
    "    Z, Kplus = IBP_prior(alpha, N)\n",
    "    \n",
    "#repeat \"niter\" number of times\n",
    "    for j in range(niter):\n",
    "        final_Z[count,:,0:Kplus] = Z\n",
    "        final_K[count] = Kplus\n",
    "        final_sigma_X[count] = sigmaX\n",
    "        final_sigma_A[count] = sigmaA\n",
    "        final_alpha[count] = alpha\n",
    "        count = count + 1\n",
    "\n",
    "        for i in range(N):\n",
    "            Z,Kplus = Update_Z(i,X,Kplus,Z,sigmaX,sigmaA,D,N,log_p)\n",
    "            Kplus,Z = Update_Kplus(X,Z,maxNew,sigmaX, sigmaA,alpha,N,D,Kplus,log_p)\n",
    "        Log_L1 = log_p(X, Z, sigmaX, sigmaA, Kplus, D, N )\n",
    "        sigmaX = Update_sigmaX(X, Z, sigmaX, sigmaA, Kplus, D, N,Log_L1)\n",
    "        sigmaA = Update_sigmaA(X, Z, sigmaX, sigmaA, Kplus, D, N,Log_L1)\n",
    "        alpha = Update_alpha(N,Kplus)\n",
    " \n",
    "    return(final_Z, final_K, final_sigma_A, final_sigma_X, final_alpha, Z)"
   ]
  },
  {
   "cell_type": "markdown",
   "metadata": {},
   "source": [
    "### Algorithm Output"
   ]
  },
  {
   "cell_type": "code",
   "execution_count": null,
   "metadata": {
    "collapsed": true
   },
   "outputs": [],
   "source": []
  },
  {
   "cell_type": "code",
   "execution_count": null,
   "metadata": {
    "collapsed": true
   },
   "outputs": [],
   "source": []
  },
  {
   "cell_type": "markdown",
   "metadata": {},
   "source": [
    "## Optimization"
   ]
  },
  {
   "cell_type": "code",
   "execution_count": null,
   "metadata": {
    "collapsed": true
   },
   "outputs": [],
   "source": []
  },
  {
   "cell_type": "markdown",
   "metadata": {},
   "source": [
    "### Matrix Inverse"
   ]
  },
  {
   "cell_type": "markdown",
   "metadata": {},
   "source": [
    "### Improve Likelihood\n",
    "### Cython\n",
    "### Jit\n",
    "### Parallelization\n",
    "\n",
    "## Conclusion\n",
    "\n",
    "## Reference"
   ]
  },
  {
   "cell_type": "markdown",
   "metadata": {},
   "source": [
    "## Need revision\n",
    "**Part III: Defining original likelihood and likelihood with new inverse calculation method**\n",
    "**(\"log_p\" and \"log_p_new\")**"
   ]
  },
  {
   "cell_type": "markdown",
   "metadata": {},
   "source": [
    "In the finite model, the D-dimensional vector of properties of an object i, $x_i$ is generated from a Gaussian distribution with mean $z_i$A and covariance matrix $\\sum$X = $\\sigma$^2_X I, where $z_i$ is a K-dimensional binary vector, and A is a K $\\times$ D matrix of weights. In matrix notation, E[X] = ZA. If Z is a feature matrix, this is a form of binary factor analysis. The distribution of X given Z, A, and σ X is matrix Gaussian with mean ZA and covariance matrix $\\sigma$^2_X I, where I is the identity matrix. The prior on A is also matrix Gaussian, with mean 0 and covariance matrix $\\sigma$^2_X I. Integrating out A, we have:\n",
    "\n",
    "\\begin{multline}\n",
    "P(X|Z,\\sigma_X, \\sigma_A) = \\frac{1}{(2 \\pi)^{ND/2} (\\sigma_X)^{(N-K)D}(\\sigma_A)^{KD}(|Z^TZ+\\frac{\\sigma_X^2}{\\sigma_A^2}I|)^{D/2}}\\\\exp\\{-\\frac{1}{2\\sigma_X^2}tr(X^T(I-Z(Z^TZ+\\frac{\\sigma_X^2}{\\sigma_A^2}I)^{-1}Z^T)X)\\}\n",
    "\\end{multline}\n",
    "\n",
    "Based on these information from the paper, we simply implemented the likelihood function as below.\n",
    "\n",
    "Inspired by the formulas (23) and (24) in Griffiths and Ghahramani's[1] paper, we also tried to use the method to calculate inverse as below:\n",
    "\n",
    "(latex needed for the two formulas)"
   ]
  },
  {
   "cell_type": "code",
   "execution_count": 24,
   "metadata": {
    "collapsed": false
   },
   "outputs": [
    {
     "name": "stdout",
     "output_type": "stream",
     "text": [
      "Overwriting compare_matrix_inverse.py\n"
     ]
    }
   ],
   "source": [
    "%%file compare_matrix_inverse.py\n",
    "from original_functions import IBP_prior, calcInverse\n",
    "import numpy as np\n",
    "import time\n",
    "#check whether the inversion method described by Griffiths and Ghahramani(2005) works\n",
    "X=np.load('data/X_initialized.npy')\n",
    "N=X.shape[0]\n",
    "D=X.shape[1]\n",
    "sigmaX=1.\n",
    "sigmaA=1.\n",
    "alpha=1.\n",
    "i=2\n",
    "k=1\n",
    "Z,K = IBP_prior(alpha,N)\n",
    "M = np.linalg.inv(Z.T.dot(Z)+(sigmaX**2/sigmaA**2)*np.identity(K))\n",
    "Z[i,k] = 1 - Z[i,k]\n",
    "loops = 1000\n",
    "t_calculate_inverse = np.zeros(loops)\n",
    "for l in range(loops):\n",
    "    t0=time.time()\n",
    "    calcInverse(Z,M,i,k)\n",
    "    t1=time.time()\n",
    "    t_calculate_inverse[l]=t1-t0\n",
    "mean_t_calculate_inverse = round(np.mean(t_calculate_inverse),7)\n",
    "\n",
    "\n",
    "t_linalg_inverse = np.zeros(loops)\n",
    "for l in range(loops):\n",
    "    t0=time.time()\n",
    "    np.linalg.inv(Z.T.dot(Z)+(sigmaX**2/sigmaA**2)*np.identity(K))\n",
    "    t1=time.time()\n",
    "    t_linalg_inverse[l]=t1-t0\n",
    "mean_t_linalg_inverse= round(np.mean(t_linalg_inverse),7)\n",
    "\n",
    "\n",
    "aaaa = calcInverse(Z,M,i,k)\n",
    "bbbb = np.linalg.inv(Z.T.dot(Z)+(sigmaX**2/sigmaA**2)*np.identity(K))\n",
    "\n",
    "results = np.array([aaaa,bbbb,mean_t_calculate_inverse,t_linalg_inverse])\n",
    "np.save(\"data/inverse_compare_results\",results)"
   ]
  },
  {
   "cell_type": "code",
   "execution_count": 25,
   "metadata": {
    "collapsed": false
   },
   "outputs": [],
   "source": [
    "import numpy.testing as npt\n",
    "results = np.load(\"data/inverse_compare_results.npy\")\n",
    "# There are small portion of times that they don't almost equal\n",
    "npt.assert_almost_equal(results[0],results[1], decimal =2)"
   ]
  },
  {
   "cell_type": "code",
   "execution_count": 26,
   "metadata": {
    "collapsed": false
   },
   "outputs": [
    {
     "data": {
      "text/html": [
       "<div>\n",
       "<table border=\"1\" class=\"dataframe\">\n",
       "  <thead>\n",
       "    <tr style=\"text-align: right;\">\n",
       "      <th></th>\n",
       "      <th>Time</th>\n",
       "    </tr>\n",
       "  </thead>\n",
       "  <tbody>\n",
       "    <tr>\n",
       "      <th>calcInverse</th>\n",
       "      <td>1.7e-05</td>\n",
       "    </tr>\n",
       "    <tr>\n",
       "      <th>linear algebra inverse</th>\n",
       "      <td>3e-05</td>\n",
       "    </tr>\n",
       "  </tbody>\n",
       "</table>\n",
       "</div>"
      ],
      "text/plain": [
       "                           Time\n",
       "calcInverse             1.7e-05\n",
       "linear algebra inverse    3e-05"
      ]
     },
     "execution_count": 26,
     "metadata": {},
     "output_type": "execute_result"
    }
   ],
   "source": [
    "import pandas as pd\n",
    "columns = ['Time']\n",
    "index = ['calcInverse','linear algebra inverse']\n",
    "times = results[2:4]\n",
    "df = pd.DataFrame(times,columns=columns,index=index)\n",
    "df"
   ]
  },
  {
   "cell_type": "markdown",
   "metadata": {},
   "source": [
    "### Improve Likelihood"
   ]
  },
  {
   "cell_type": "code",
   "execution_count": null,
   "metadata": {
    "collapsed": true
   },
   "outputs": [],
   "source": []
  },
  {
   "cell_type": "markdown",
   "metadata": {},
   "source": [
    "### Parallelization"
   ]
  },
  {
   "cell_type": "code",
   "execution_count": null,
   "metadata": {
    "collapsed": true
   },
   "outputs": [],
   "source": []
  },
  {
   "cell_type": "markdown",
   "metadata": {},
   "source": [
    "## Cythonize"
   ]
  },
  {
   "cell_type": "code",
   "execution_count": 32,
   "metadata": {
    "collapsed": false
   },
   "outputs": [
    {
     "name": "stdout",
     "output_type": "stream",
     "text": [
      "The cython extension is already loaded. To reload it, use:\n",
      "  %reload_ext cython\n"
     ]
    }
   ],
   "source": [
    "%load_ext cython"
   ]
  },
  {
   "cell_type": "code",
   "execution_count": 33,
   "metadata": {
    "collapsed": false
   },
   "outputs": [
    {
     "name": "stdout",
     "output_type": "stream",
     "text": [
      "Overwriting Cython/Cython_functions.pyx\n"
     ]
    }
   ],
   "source": [
    "%%file Cython/Cython_functions.pyx\n",
    "import numpy as np\n",
    "\n",
    "cimport numpy as np\n",
    "\n",
    "def IBP_prior(double alpha, int N):\n",
    "    cdef double p\n",
    "    cdef int i,j,K_plus,temp\n",
    "    cdef np.ndarray res\n",
    "    \n",
    "    res = np.zeros((N, 1000))\n",
    "    \n",
    "    temp = np.random.poisson(alpha)\n",
    "    if temp>0:\n",
    "        res[0,0:temp] = np.ones(temp)\n",
    "\n",
    "    K_plus = temp\n",
    "    for i in range(1,N):\n",
    "        for j in range(K_plus):\n",
    "            p = np.sum(res[0:i,j])/(i+1)\n",
    "            if np.random.uniform(0,1) < p:\n",
    "                res[i,j] = 1\n",
    "        temp = np.random.poisson(alpha/(i+1))\n",
    "        if temp > 0:\n",
    "            res[i, K_plus : K_plus + temp] = np.ones(temp)\n",
    "            K_plus = K_plus + temp\n",
    "    \n",
    "    res = res[:,0:K_plus]\n",
    "    return np.array((res, K_plus))\n",
    "\n",
    "#log p(X|Z,σ_x ,σ_A )\n",
    "def log_p(X, Z, double sigmaX, double sigmaA, int K, int D, int N):\n",
    "    M = Z.T.dot(Z)+(sigmaX**2/sigmaA**2)*np.identity(K)\n",
    "    return (-0.5)*N*D*np.log(2*np.pi) - (N-K)*D*np.log(sigmaX) - K*D*np.log(sigmaA) -0.5*D*np.log(np.linalg.det(M)) -0.5/(sigmaX**2)*np.trace((X.T.dot(np.identity(N)-Z.dot(np.linalg.inv(M).dot(Z.T)))).dot(X))"
   ]
  },
  {
   "cell_type": "code",
   "execution_count": 34,
   "metadata": {
    "collapsed": false
   },
   "outputs": [
    {
     "name": "stdout",
     "output_type": "stream",
     "text": [
      "Overwriting Cython/Cython_setup.py\n"
     ]
    }
   ],
   "source": [
    "%%file Cython/Cython_setup.py\n",
    "\n",
    "from distutils.core import setup, Extension\n",
    "from Cython.Build import cythonize\n",
    "import numpy as np\n",
    "\n",
    "ext = Extension(\"Cython_functions\",\n",
    "                sources=[\"Cython/Cython_functions.pyx\"],\n",
    "                include_dirs=[np.get_include()],\n",
    "                libraries=[\"m\"],\n",
    "                extra_compile_args=[\"-w\",  \"-std=c99\"])\n",
    "\n",
    "setup(name = \"Cy_Funcs\",\n",
    "      ext_modules = cythonize(ext),\n",
    "     include_dirs=[np.get_include()])"
   ]
  },
  {
   "cell_type": "code",
   "execution_count": 35,
   "metadata": {
    "collapsed": false
   },
   "outputs": [
    {
     "name": "stdout",
     "output_type": "stream",
     "text": [
      "Compiling Cython/Cython_functions.pyx because it changed.\n",
      "[1/1] Cythonizing Cython/Cython_functions.pyx\n",
      "running clean\n",
      "removing 'build/temp.macosx-10.5-x86_64-3.5' (and everything under it)\n",
      "removing 'build'\n"
     ]
    }
   ],
   "source": [
    "! python Cython/Cython_setup.py clean\n",
    "! python Cython/Cython_setup.py -q build_ext --inplace"
   ]
  },
  {
   "cell_type": "code",
   "execution_count": 36,
   "metadata": {
    "collapsed": false
   },
   "outputs": [
    {
     "name": "stdout",
     "output_type": "stream",
     "text": [
      "Overwriting Cython/Cython_sampler.pyx\n"
     ]
    }
   ],
   "source": [
    "%%file Cython/Cython_sampler.pyx\n",
    "import numpy as np\n",
    "cimport numpy as np\n",
    "import math\n",
    "import Cython_functions as func\n",
    "def cy_sampler(double[:,:] X, int niter, double sigmaX, double sigmaA, double alpha, int N, int D, int maxNew):\n",
    "\n",
    "    \n",
    "    #initialization\n",
    "    cdef int count=0\n",
    "    cdef int j,i,kNew,kk,new,k\n",
    "    cdef double[:,:] Z\n",
    "    cdef double Log_L1,temp_unif\n",
    "    cdef double Harmonic_N,alphaN, lik, pois, p\n",
    "    cdef double temp_unif1, Log_L_New, sigmaX_a, U, sigmaA_new,sigmaX_new\n",
    "\n",
    "\n",
    "    final_Z=np.zeros((niter,N,20))\n",
    "    final_K=np.zeros((niter,1))\n",
    "    final_sigma_X=np.zeros((niter,1))\n",
    "    final_sigma_A=np.zeros((niter,1))\n",
    "    final_alpha=np.zeros((niter,1))\n",
    "    Z, Kplus = func.IBP_prior(alpha, N)\n",
    "    \n",
    "    #repeat \"niter\" number of times\n",
    "    for j in range(niter):\n",
    "        final_Z[count,:,0:Kplus] = Z\n",
    "        final_K[count] = Kplus\n",
    "        final_sigma_X[count] = sigmaX\n",
    "        final_sigma_A[count] = sigmaA\n",
    "        final_alpha[count] = alpha\n",
    "        count = count + 1\n",
    "\n",
    "        for i in range(N):\n",
    "            for k in range(Kplus):\n",
    "                if k >= Kplus:\n",
    "                    break     \n",
    "                if Z[i,k] > 0:\n",
    "                    if (np.sum(Z[:,k])- 1) <= 0:\n",
    "                        Z[:,k:(Kplus-1)] = Z[:,(k+1):Kplus]\n",
    "                        Kplus = Kplus-1\n",
    "                        Z = Z[:,0:Kplus]\n",
    "                        continue\n",
    "           \n",
    "\n",
    "           #M-H algorithm for Z\n",
    "                P = np.zeros(2)\n",
    "                #set Z[i,k] = 0 and calculate posterior probability\n",
    "                Z[i,k] = 0\n",
    "                P[0] = func.log_p(X, Z, sigmaX, sigmaA, Kplus, D, N) + np.log(N-np.sum(Z[:,k])) - np.log(N)\n",
    "                #set Z[i,k] = 1 and calculate posterior probability\n",
    "                Z[i,k] = 1\n",
    "                P[1] = func.log_p(X, Z,sigmaX, sigmaA, Kplus, D, N)  + np.log(np.sum(Z[:,k])- 1) - np.log(N)\n",
    "\n",
    "                P = np.exp(P - max(P))\n",
    "                U = np.random.uniform(0,1)\n",
    "                if U<(P[1]/(np.sum(P))):\n",
    "                    Z[i,k] = 1\n",
    "                else:\n",
    "                    Z[i,k] = 0   \n",
    "  \n",
    "\n",
    "            #M-H algorithm for k\n",
    "            # Set the number of upper bound as 3\n",
    "            maxNew = 3\n",
    "            #Sample number of new features\n",
    "            prob = np.zeros(maxNew)\n",
    "            alphaN = alpha/N     \n",
    "            for kNew in range(maxNew):\n",
    "                Z_temp = Z\n",
    "                if kNew > 0:\n",
    "                    addCols = np.zeros((N,kNew))\n",
    "                    addCols[i,:] = 1\n",
    "                    Z_temp = np.hstack((Z_temp, addCols))\n",
    "\n",
    "                pois = kNew*np.log(alphaN) - alphaN - np.log(math.factorial(kNew))\n",
    "                kk = Kplus+kNew\n",
    "                lik = func.log_p(X, Z_temp, sigmaX, sigmaA, kk, D, N)\n",
    "                prob[kNew] = pois + lik\n",
    "            prob = np.exp(prob - max(prob))\n",
    "            prob = prob/sum(prob)\n",
    "\n",
    "            U = np.random.uniform(0,1)\n",
    "            p = 0\n",
    "            kNew=0\n",
    "            for new in range(maxNew):\n",
    "                p = p + prob[new]\n",
    "                if U < p:\n",
    "                    kNew = new\n",
    "                    break\n",
    "            if kNew > 0:\n",
    "                addCols = np.zeros((N,kNew))\n",
    "                addCols[i,:] = 1\n",
    "                Z = np.hstack((Z, addCols))\n",
    "            Kplus = Kplus + kNew \n",
    "        Log_L1 = func.log_p(X, Z, sigmaX, sigmaA, Kplus, D, N )\n",
    "\n",
    "\n",
    "        #update sigmaX  \n",
    "        temp_unif = np.random.uniform(0,1)/30\n",
    "        if np.random.uniform(0,1) < .5:\n",
    "            sigmaX_new = sigmaX - temp_unif\n",
    "        else:\n",
    "            sigmaX_new = sigmaX + temp_unif\n",
    "    \n",
    "        Log_L_New = func.log_p(X, Z, sigmaX_new, sigmaA, Kplus, D, N)\n",
    "        sigmaX_a = np.exp(min(0,Log_L_New-Log_L1))       \n",
    "        U = np.random.uniform(0,1)\n",
    "        if U < sigmaX_a:\n",
    "            sigmaX = sigmaX_new\n",
    "\n",
    "\n",
    "        #update sigmaA\n",
    "        temp_unif1 = np.random.uniform(0,1)/30\n",
    "        if np.random.uniform(0,1) < .5:\n",
    "            sigmaA_new = sigmaA - temp_unif1\n",
    "        else:\n",
    "            sigmaA_new = sigmaA + temp_unif1\n",
    "    \n",
    "        Log_L_New = func.log_p(X, Z, sigmaX, sigmaA_new, Kplus, D, N)\n",
    "        sigmaX_a = np.exp(min(0,Log_L_New-Log_L1))\n",
    "        U = np.random.uniform(0,1)\n",
    "        if U < sigmaX_a:\n",
    "            sigmaA = sigmaA_new\n",
    "        \n",
    "\n",
    "        #update alpha\n",
    "        Harmonic_N = 0.\n",
    "        for i in range(1, N+1):\n",
    "            Harmonic_N += 1.0/i\n",
    "        alpha = np.random.gamma(1+Kplus, 1/(1+Harmonic_N))  \n",
    " \n",
    "    return(final_Z, final_K, final_sigma_A, final_sigma_X, final_alpha, Z)"
   ]
  },
  {
   "cell_type": "code",
   "execution_count": 37,
   "metadata": {
    "collapsed": false
   },
   "outputs": [
    {
     "name": "stdout",
     "output_type": "stream",
     "text": [
      "Overwriting Cython/Cython_setup_sampler.py\n"
     ]
    }
   ],
   "source": [
    "%%file Cython/Cython_setup_sampler.py\n",
    "\n",
    "from distutils.core import setup, Extension\n",
    "from Cython.Build import cythonize\n",
    "import numpy as np\n",
    "\n",
    "ext = Extension(\"Cython_sampler\",\n",
    "                sources=[\"Cython/Cython_sampler.pyx\"],\n",
    "                include_dirs=[np.get_include()],\n",
    "                libraries=[\"m\"],\n",
    "                extra_compile_args=[\"-w\",  \"-std=c99\"])\n",
    "\n",
    "setup(name = \"Cy_sampler\",\n",
    "      ext_modules = cythonize(ext),\n",
    "     include_dirs=[np.get_include()])"
   ]
  },
  {
   "cell_type": "code",
   "execution_count": 38,
   "metadata": {
    "collapsed": false
   },
   "outputs": [
    {
     "name": "stdout",
     "output_type": "stream",
     "text": [
      "Compiling Cython/Cython_sampler.pyx because it changed.\n",
      "[1/1] Cythonizing Cython/Cython_sampler.pyx\n",
      "running clean\n",
      "removing 'build/temp.macosx-10.5-x86_64-3.5' (and everything under it)\n",
      "removing 'build'\n"
     ]
    }
   ],
   "source": [
    "! python Cython/Cython_setup_sampler.py clean\n",
    "! python Cython/Cython_setup_sampler.py -q build_ext --inplace"
   ]
  },
  {
   "cell_type": "markdown",
   "metadata": {},
   "source": [
    "# Part V: Algorithm implementation"
   ]
  },
  {
   "cell_type": "markdown",
   "metadata": {},
   "source": [
    "Before conducting optimization, we first test whether the code above works and give up a desired result similar to that in the paper. This is tested by checking the traceplot of certain variable and drawing the picture based from \"A\", which is the same as that in the paper. \n",
    "\n",
    "As is set in the paper: \"The Gibbs sampler was initialized with K+ = 1, choosing the feature assignments for the first column by setting $z_i1$ = 1 with probability 0.5. $\\sigma_A$, $\\sigma_X$ , and $\\alpha$ were initially set to 0.5, 1.7, and 1 respectively\". To get a trace plot, parameters $\\alpha$, $\\sigma_A$ and $\\sigma_X$ are sampled over 1000 iterations with 200 burn-in."
   ]
  },
  {
   "cell_type": "markdown",
   "metadata": {},
   "source": [
    "### Compare samplers"
   ]
  },
  {
   "cell_type": "code",
   "execution_count": 29,
   "metadata": {
    "collapsed": false
   },
   "outputs": [
    {
     "name": "stdout",
     "output_type": "stream",
     "text": [
      "Writing scripts/compare_sampler.py\n"
     ]
    }
   ],
   "source": [
    "%%file scripts/compare_sampler.py\n",
    "import time\n",
    "import numpy as np\n",
    "from Cython_sampler import cy_sampler\n",
    "import math\n",
    "import Cython_functions as func\n",
    "from Original_sampler import sampler\n",
    "from gibbs_sampler import Update_Z,Update_Kplus,Update_sigmaX,Update_sigmaA,Update_alpha\n",
    "from original_functions import log_p, log_p_origin, IBP_prior\n",
    "X=np.load('data/X_initialized.npy')\n",
    "niter = 1500\n",
    "N = 100 \n",
    "D = 36 \n",
    "sigmaX = 1.7\n",
    "sigmaA = 0.5\n",
    "alpha = 1.0\n",
    "maxNew = 4\n",
    "BURN_IN=200\n",
    "SAMPLE_SIZE= niter-BURN_IN\n",
    "np.random.seed(124)\n",
    "t0=time.time()\n",
    "chain1_Z, chain1_K, chain1_sigma_A, chain1_sigma_X, chain1_alpha, Z1= sampler(X, niter, sigmaX, sigmaA, alpha, N, D, maxNew, log_p_origin)  \n",
    "t1=time.time()-t0\n",
    "\n",
    "np.save(\"data/chain1/chain1Z\", chain1_Z)\n",
    "np.save(\"data/chain1/chain1K\",chain1_K)\n",
    "np.save(\"data/chain1/chain1SigmaX\", chain1_sigma_X)\n",
    "np.save(\"data/chain1/chain1SigmaA\",chain1_sigma_A)\n",
    "np.save(\"data/chain1/chain1Alpha\", chain1_alpha) \n",
    "np.random.seed(124)\n",
    "t0=time.time()\n",
    "chain2_Z, chain2_K, chain2_sigma_A, chain2_sigma_X, chain2_alpha, Z2= sampler(X, niter, sigmaX, sigmaA, alpha, N, D, maxNew, log_p)  \n",
    "t2=time.time()-t0\n",
    "\n",
    "np.save(\"data/chain2/chain2Z\", chain2_Z)\n",
    "np.save(\"data/chain2/chain2K\",chain2_K)\n",
    "np.save(\"data/chain2/chain2SigmaX\", chain2_sigma_X)\n",
    "np.save(\"data/chain2/chain2SigmaA\",chain2_sigma_A)\n",
    "np.save(\"data/chain2/chain2Alpha\", chain2_alpha) \n",
    "np.random.seed(124)\n",
    "t0=time.time()\n",
    "chain3_Z, chain3_K, chain3_sigma_A, chain3_sigma_X, chain3_alpha, Z3= cy_sampler(X, niter, sigmaX, sigmaA, alpha, N, D, maxNew)  \n",
    "t3=time.time()-t0\n",
    "\n",
    "np.save(\"data/chain3/chain3Z\", chain3_Z)\n",
    "np.save(\"data/chain3/chain3K\",chain3_K)\n",
    "np.save(\"data/chain3/chain3SigmaX\", chain3_sigma_X)\n",
    "np.save(\"data/chain3/chain3SigmaA\",chain3_sigma_A)\n",
    "np.save(\"data/chain3/chain3Alpha\", chain3_alpha) \n",
    "\n",
    "np.save(\"data/sampler_time\", np.array([t1,t2,t3]))"
   ]
  },
  {
   "cell_type": "code",
   "execution_count": 4,
   "metadata": {
    "collapsed": false
   },
   "outputs": [
    {
     "data": {
      "text/html": [
       "<div>\n",
       "<table border=\"1\" class=\"dataframe\">\n",
       "  <thead>\n",
       "    <tr style=\"text-align: right;\">\n",
       "      <th></th>\n",
       "      <th>Time(s)</th>\n",
       "    </tr>\n",
       "  </thead>\n",
       "  <tbody>\n",
       "    <tr>\n",
       "      <th>sampler_original_likelihood</th>\n",
       "      <td>343.168945</td>\n",
       "    </tr>\n",
       "    <tr>\n",
       "      <th>sampler_improved_likelihood</th>\n",
       "      <td>316.431679</td>\n",
       "    </tr>\n",
       "    <tr>\n",
       "      <th>Cythonized_sampler</th>\n",
       "      <td>302.441189</td>\n",
       "    </tr>\n",
       "  </tbody>\n",
       "</table>\n",
       "</div>"
      ],
      "text/plain": [
       "                                Time(s)\n",
       "sampler_original_likelihood  343.168945\n",
       "sampler_improved_likelihood  316.431679\n",
       "Cythonized_sampler           302.441189"
      ]
     },
     "execution_count": 4,
     "metadata": {},
     "output_type": "execute_result"
    }
   ],
   "source": [
    "import pandas as pd\n",
    "times = np.load(\"data/sampler_time.npy\")\n",
    "columns = ['Time(s)']\n",
    "index = ['sampler_original_likelihood','sampler_improved_likelihood','Cythonized_sampler']\n",
    "df = pd.DataFrame(times,columns=columns,index=index)\n",
    "df"
   ]
  },
  {
   "cell_type": "markdown",
   "metadata": {},
   "source": [
    "### Improved likelihood"
   ]
  },
  {
   "cell_type": "markdown",
   "metadata": {},
   "source": [
    "### Cythonized functions"
   ]
  },
  {
   "cell_type": "code",
   "execution_count": 30,
   "metadata": {
    "collapsed": false
   },
   "outputs": [],
   "source": [
    "XRecreated=np.zeros((N,D))\n",
    "Z=Z[:,0:4]\n",
    "sigma_X=np.mean(chain_sigma_X[BURN_IN:niter])\n",
    "sigma_A=np.mean(chain_sigma_A[BURN_IN:niter])\n",
    "A_inf=np.dot(np.dot(np.linalg.inv((np.dot(Z.T,Z)+(sigmaX/sigmaA)*np.eye(4))),Z.T),X)\n",
    "\n",
    "for i in range(N):\n",
    "    XRecreated[i,:]=np.dot(Z[i,:],A_inf[0:4,])"
   ]
  },
  {
   "cell_type": "markdown",
   "metadata": {},
   "source": [
    "Posterior estimation of A is given by:\n",
    "E[A|X,Z]=(ZZ+σA2I) ZX\n",
    "as given in Griffiths and Ghahramani(2005) [2] eq.59. For this calculation, we used the final Z obtained from the MC with only the first four columns corresponding to the four detected features. Likewise, posterior means of σX and σA were used in the calculation of posterior estimation of weight matrix A.\n",
    "\n",
    "With this information and the posterior Z, we were able to recreate the objects X as: xi ∼Normal(ziA,0)\n",
    "We used zero variance to ignore the white noise in the recreated images. The results are shown in Fig. 4. By comparing with the original features and simulated objects as given in Fig. 3 with the detected features and recreated objects as given in Fig. 4, we can conclude that the algorithm was successfull in identifying all the latent features and successfully detecting the presense or absence of those features in the simulated objects which had white noise making detection difficult."
   ]
  },
  {
   "cell_type": "markdown",
   "metadata": {},
   "source": [
    "100 images were generated as binary linear combinations of four sets of\n",
    "class weights, shown in the images on the top. The images on the bottom are the posterior\n",
    "mean weights A for a single sample of Z after 200 iterations, ordered to match the true\n",
    "classes. "
   ]
  },
  {
   "cell_type": "code",
   "execution_count": 31,
   "metadata": {
    "collapsed": false
   },
   "outputs": [
    {
     "data": {
      "text/plain": [
       "<matplotlib.collections.QuadMesh at 0x118b3aa20>"
      ]
     },
     "execution_count": 31,
     "metadata": {},
     "output_type": "execute_result"
    },
    {
     "data": {
      "image/png": "[encoded data removed]",
      "text/plain": [
       "<matplotlib.figure.Figure at 0x115819d30>"
      ]
     },
     "metadata": {},
     "output_type": "display_data"
    }
   ],
   "source": [
    "#Initial plots\n",
    "plt.figure(num=None, figsize=(15,3.5), dpi=100, facecolor='w', edgecolor='k')\n",
    "plt.subplot(141)\n",
    "plt.pcolormesh(A[0,:].reshape(6,6),cmap=plt.cm.gray)     \n",
    "plt.subplot(142)\n",
    "plt.pcolormesh(A[1,:].reshape(6,6),cmap=plt.cm.gray)  \n",
    "plt.subplot(143)\n",
    "plt.pcolormesh(A[2,:].reshape(6,6),cmap=plt.cm.gray)  \n",
    "plt.subplot(144)\n",
    "plt.pcolormesh(A[3,:].reshape(6,6),cmap=plt.cm.gray) "
   ]
  },
  {
   "cell_type": "code",
   "execution_count": 32,
   "metadata": {
    "collapsed": false
   },
   "outputs": [
    {
     "data": {
      "text/plain": [
       "<matplotlib.collections.QuadMesh at 0x118e8c898>"
      ]
     },
     "execution_count": 32,
     "metadata": {},
     "output_type": "execute_result"
    },
    {
     "data": {
      "image/png": "[encoded data removed]",
      "text/plain": [
       "<matplotlib.figure.Figure at 0x118ac03c8>"
      ]
     },
     "metadata": {},
     "output_type": "display_data"
    }
   ],
   "source": [
    "\n",
    "plt.figure(num=None, figsize=(15,3.5), dpi=100, facecolor='w', edgecolor='k')\n",
    "plt.subplot(141)\n",
    "plt.pcolormesh(XRecreated[1,:].reshape(6,6),cmap=plt.cm.gray)\n",
    "plt.subplot(142)\n",
    "plt.pcolormesh(XRecreated[2,:].reshape(6,6),cmap=plt.cm.gray)\n",
    "plt.subplot(143)\n",
    "plt.pcolormesh(XRecreated[3,:].reshape(6,6),cmap=plt.cm.gray)\n",
    "plt.subplot(144)\n",
    "plt.pcolormesh(XRecreated[98,:].reshape(6,6),cmap=plt.cm.gray)"
   ]
  },
  {
   "cell_type": "markdown",
   "metadata": {},
   "source": [
    "From left to right: 0010, 0101, 1100, 1011\n"
   ]
  },
  {
   "cell_type": "markdown",
   "metadata": {},
   "source": [
    "Moreover, the latent feature model is able to ”reverse” the noisy images to the linear combination of latent features. Figure 7 is an example of the first four images in the simulated dataset: The top row contains the ”reversed” images, and the latent features in each one can be clearly seen. The bottom row represents the original images, in which the latent features are obscured by the random noise. The binary strings on top of all images indicate which bases are present in which image; for example, the string ”1100” represents an image as a linear combination of the first and second bases, without the third and fourth ones."
   ]
  },
  {
   "cell_type": "markdown",
   "metadata": {},
   "source": [
    "Detected Features, First four recreated objects and the features present in each of the objects. First row shows the 4 latent features used detected by MCMC. Second row shows the first four recreated objects. Light signifies presence and dark signifies the absence of the feature for any given object.\n"
   ]
  },
  {
   "cell_type": "code",
   "execution_count": null,
   "metadata": {
    "collapsed": true
   },
   "outputs": [],
   "source": []
  },
  {
   "cell_type": "markdown",
   "metadata": {},
   "source": [
    "**Part VI: Optimization**"
   ]
  },
  {
   "cell_type": "markdown",
   "metadata": {
    "collapsed": true
   },
   "source": [
    "**Option1: Concurrent Parallization**"
   ]
  },
  {
   "cell_type": "markdown",
   "metadata": {},
   "source": [
    "Here using parallization is worth trying and can be validated. When the computation is done in parallel on the K processors, we can see that computation on processors where the condition is not met is ’thrown away’. So on every processor, we count the rejections out and then take the total amount and keep moving. That is to say, we can break the whole process into several pieces and the result can be combined back for the final output."
   ]
  },
  {
   "cell_type": "markdown",
   "metadata": {},
   "source": [
    "**Conclusion: The trace plot are the same, by comparing the time, we can see that the ue parallel computing will dramatically improve efficiency.**"
   ]
  },
  {
   "cell_type": "markdown",
   "metadata": {},
   "source": [
    "using sampler_new which contains log_p_new with a new way of calculating inverse"
   ]
  },
  {
   "cell_type": "code",
   "execution_count": null,
   "metadata": {
    "collapsed": true
   },
   "outputs": [],
   "source": []
  },
  {
   "cell_type": "markdown",
   "metadata": {},
   "source": [
    "**Option2: JIT**"
   ]
  },
  {
   "cell_type": "code",
   "execution_count": 7,
   "metadata": {
    "collapsed": true
   },
   "outputs": [],
   "source": [
    "from numba import jit\n",
    "import numpy as np\n",
    "import math"
   ]
  },
  {
   "cell_type": "code",
   "execution_count": 10,
   "metadata": {
    "collapsed": false
   },
   "outputs": [],
   "source": [
    "@jit\n",
    "\n",
    "def numba_sampler(X, niter, sigmaX, sigmaA, alpha, N, D, maxNew, log_p):\n",
    "\n",
    "    \n",
    "    #initialization\n",
    "    count=0\n",
    "    final_Z=np.zeros((niter,N,20))\n",
    "    final_K=np.zeros((niter,1))\n",
    "    final_sigma_X=np.zeros((niter,1))\n",
    "    final_sigma_A=np.zeros((niter,1))\n",
    "    final_alpha=np.zeros((niter,1))\n",
    "    Z, Kplus = IBP_prior(alpha, N)\n",
    "    \n",
    "    #repeat \"niter\" number of times\n",
    "    for j in range(niter):\n",
    "        final_Z[count,:,0:Kplus] = Z\n",
    "        final_K[count] = Kplus\n",
    "        final_sigma_X[count] = sigmaX\n",
    "        final_sigma_A[count] = sigmaA\n",
    "        final_alpha[count] = alpha\n",
    "        count = count + 1\n",
    "\n",
    "        for i in range(N):\n",
    "            for k in range(Kplus):\n",
    "                if k >= Kplus:\n",
    "                    break     \n",
    "                if Z[i,k] > 0:\n",
    "                    if (np.sum(Z[:,k])- 1) <= 0:\n",
    "                        Z[:,k:(Kplus-1)] = Z[:,(k+1):Kplus]\n",
    "                        Kplus = Kplus-1\n",
    "                        Z = Z[:,0:Kplus]\n",
    "                        continue\n",
    "           \n",
    "\n",
    "           #M-H algorithm for Z\n",
    "                P = np.zeros(2)\n",
    "                #set Z[i,k] = 0 and calculate posterior probability\n",
    "                Z[i,k] = 0\n",
    "                P[0] = log_p(X, Z, sigmaX, sigmaA, Kplus, D, N) + np.log(N-np.sum(Z[:,k])) - np.log(N)\n",
    "                #set Z[i,k] = 1 and calculate posterior probability\n",
    "                Z[i,k] = 1\n",
    "                P[1] = log_p(X, Z,sigmaX, sigmaA, Kplus, D, N)  + np.log(np.sum(Z[:,k])- 1) - np.log(N)\n",
    "\n",
    "                P = np.exp(P - max(P))\n",
    "                U = np.random.uniform(0,1)\n",
    "                if U<(P[1]/(np.sum(P))):\n",
    "                    Z[i,k] = 1\n",
    "                else:\n",
    "                    Z[i,k] = 0   \n",
    "  \n",
    "\n",
    "            #M-H algorithm for k\n",
    "            # Set the number of upper bound as 3\n",
    "            maxNew = 3\n",
    "            #Sample number of new features\n",
    "            prob = np.zeros(maxNew)\n",
    "            alphaN = alpha/N     \n",
    "            for kNew in range(maxNew):\n",
    "                Z_temp = Z\n",
    "                if kNew > 0:\n",
    "                    addCols = np.zeros((N,kNew))\n",
    "                    addCols[i,:] = 1\n",
    "                    Z_temp = np.hstack((Z_temp, addCols))\n",
    "\n",
    "                pois = kNew*np.log(alphaN) - alphaN - np.log(math.factorial(kNew))\n",
    "                kk = Kplus+kNew\n",
    "                lik = log_p(X, Z_temp, sigmaX, sigmaA, kk, D, N)\n",
    "                prob[kNew] = pois + lik\n",
    "            prob = np.exp(prob - max(prob))\n",
    "            prob = prob/sum(prob)\n",
    "\n",
    "            U = np.random.uniform(0,1)\n",
    "            p = 0\n",
    "            kNew=0\n",
    "            for new in range(maxNew):\n",
    "                p = p + prob[new]\n",
    "                if U < p:\n",
    "                    kNew = new\n",
    "                    break\n",
    "            if kNew > 0:\n",
    "                addCols = np.zeros((N,kNew))\n",
    "                addCols[i,:] = 1\n",
    "                Z = np.hstack((Z, addCols))\n",
    "            Kplus = Kplus + kNew \n",
    "        Log_L1 = log_p(X, Z, sigmaX, sigmaA, Kplus, D, N )\n",
    "\n",
    "\n",
    "        #update sigmaX  \n",
    "        temp_unif = np.random.uniform(0,1)/30\n",
    "        if np.random.uniform(0,1) < .5:\n",
    "            sigmaX_new = sigmaX - temp_unif\n",
    "        else:\n",
    "            sigmaX_new = sigmaX + temp_unif\n",
    "    \n",
    "        Log_L_New = log_p(X, Z, sigmaX_new, sigmaA, Kplus, D, N)\n",
    "        sigmaX_a = np.exp(min(0,Log_L_New-Log_L1))       \n",
    "        U = np.random.uniform(0,1)\n",
    "        if U < sigmaX_a:\n",
    "            sigmaX = sigmaX_new\n",
    "\n",
    "\n",
    "        #update sigmaA\n",
    "        temp_unif1 = np.random.uniform(0,1)/30\n",
    "        if np.random.uniform(0,1) < .5:\n",
    "            sigmaA_new = sigmaA - temp_unif1\n",
    "        else:\n",
    "            sigmaA_new = sigmaA + temp_unif1\n",
    "    \n",
    "        Log_L_New = log_p(X, Z, sigmaX, sigmaA_new, Kplus, D, N)\n",
    "        sigmaX_a = np.exp(min(0,Log_L_New-Log_L1))\n",
    "        U = np.random.uniform(0,1)\n",
    "        if U < sigmaX_a:\n",
    "            sigmaA = sigmaA_new\n",
    "        \n",
    "\n",
    "        #update alpha\n",
    "        Harmonic_N = 0.\n",
    "        for i in range(1, N+1):\n",
    "            Harmonic_N += 1.0/i\n",
    "        alpha = np.random.gamma(1+Kplus, 1/(1+Harmonic_N))  \n",
    " \n",
    "    return(final_Z, final_K, final_sigma_A, final_sigma_X, final_alpha, Z)"
   ]
  },
  {
   "cell_type": "code",
   "execution_count": 22,
   "metadata": {
    "collapsed": false
   },
   "outputs": [],
   "source": [
    "%%file scripts/compare_jit_with_original\n",
    "import time\n",
    "X=np.load('data/X_initialized.npy')\n",
    "niter = 1500\n",
    "N = 100 \n",
    "D = 36 \n",
    "sigmaX = 1.7\n",
    "sigmaA = 0.5\n",
    "alpha = 1.0\n",
    "maxNew = 4\n",
    "BURN_IN=200\n",
    "SAMPLE_SIZE= niter-BURN_IN\n",
    "np.random.seed(124)\n",
    "t0 = time.time()\n",
    "chain4_Z, chain4_K, chain4_sigma_A, chain4_sigma_X, chain4_alpha, Z4 = numba_sampler(X, niter, sigmaX, sigmaA, alpha, N, D, maxNew, log_p_origin)\n",
    "t4 = time.time()-t0\n",
    "np.save(\"data/jit_time\",t4)"
   ]
  },
  {
   "cell_type": "code",
   "execution_count": 18,
   "metadata": {
    "collapsed": false
   },
   "outputs": [
    {
     "ename": "AttributeError",
     "evalue": "'numpy.ndarray' object has no attribute 'hstack'",
     "output_type": "error",
     "traceback": [
      "\u001b[0;31m---------------------------------------------------------------------------\u001b[0m",
      "\u001b[0;31mAttributeError\u001b[0m                            Traceback (most recent call last)",
      "\u001b[0;32m<ipython-input-18-b9e502e6f548>\u001b[0m in \u001b[0;36m<module>\u001b[0;34m()\u001b[0m\n\u001b[1;32m      4\u001b[0m \u001b[0mcolumns\u001b[0m \u001b[0;34m=\u001b[0m \u001b[0;34m[\u001b[0m\u001b[0;34m'Time(s)'\u001b[0m\u001b[0;34m]\u001b[0m\u001b[0;34m\u001b[0m\u001b[0m\n\u001b[1;32m      5\u001b[0m \u001b[0mindex\u001b[0m \u001b[0;34m=\u001b[0m \u001b[0;34m[\u001b[0m\u001b[0;34m'sampler_original_likelihood'\u001b[0m\u001b[0;34m,\u001b[0m\u001b[0;34m'sampler_improved_likelihood'\u001b[0m\u001b[0;34m,\u001b[0m\u001b[0;34m'Cythonized_sampler'\u001b[0m\u001b[0;34m,\u001b[0m\u001b[0;34m'jit_original-likelihood'\u001b[0m\u001b[0;34m]\u001b[0m\u001b[0;34m\u001b[0m\u001b[0m\n\u001b[0;32m----> 6\u001b[0;31m \u001b[0mdf\u001b[0m \u001b[0;34m=\u001b[0m \u001b[0mpd\u001b[0m\u001b[0;34m.\u001b[0m\u001b[0mDataFrame\u001b[0m\u001b[0;34m(\u001b[0m\u001b[0mtimes\u001b[0m\u001b[0;34m.\u001b[0m\u001b[0mhstack\u001b[0m\u001b[0;34m(\u001b[0m\u001b[0mjit_time\u001b[0m\u001b[0;34m)\u001b[0m\u001b[0;34m,\u001b[0m\u001b[0mcolumns\u001b[0m\u001b[0;34m=\u001b[0m\u001b[0mcolumns\u001b[0m\u001b[0;34m,\u001b[0m\u001b[0mindex\u001b[0m\u001b[0;34m=\u001b[0m\u001b[0mindex\u001b[0m\u001b[0;34m)\u001b[0m\u001b[0;34m\u001b[0m\u001b[0m\n\u001b[0m\u001b[1;32m      7\u001b[0m \u001b[0mdf\u001b[0m\u001b[0;34m\u001b[0m\u001b[0m\n",
      "\u001b[0;31mAttributeError\u001b[0m: 'numpy.ndarray' object has no attribute 'hstack'"
     ]
    }
   ],
   "source": [
    "import pandas as pd\n",
    "times = np.load(\"data/sampler_time.npy\")\n",
    "jit_time = np.load(\"jit_time.npy\")\n",
    "columns = ['Time(s)']\n",
    "index = ['sampler_original_likelihood','sampler_improved_likelihood','Cythonized_sampler','jit_original-likelihood']\n",
    "df = pd.DataFrame(times.hstack(jit_time),columns=columns,index=index)\n",
    "df"
   ]
  },
  {
   "cell_type": "code",
   "execution_count": 23,
   "metadata": {
    "collapsed": false
   },
   "outputs": [
    {
     "data": {
      "text/plain": [
       "(343.16894507408142, array(354.6639549732208))"
      ]
     },
     "execution_count": 23,
     "metadata": {},
     "output_type": "execute_result"
    }
   ],
   "source": [
    "times[0],jit_time"
   ]
  },
  {
   "cell_type": "code",
   "execution_count": 25,
   "metadata": {
    "collapsed": false
   },
   "outputs": [
    {
     "data": {
      "text/plain": [
       "414.01697516441345"
      ]
     },
     "execution_count": 25,
     "metadata": {},
     "output_type": "execute_result"
    }
   ],
   "source": [
    "t4"
   ]
  },
  {
   "cell_type": "code",
   "execution_count": 39,
   "metadata": {
    "collapsed": false
   },
   "outputs": [
    {
     "data": {
      "text/plain": [
       "[<matplotlib.lines.Line2D at 0x1181dd860>]"
      ]
     },
     "execution_count": 39,
     "metadata": {},
     "output_type": "execute_result"
    },
    {
     "data": {
      "image/png": "[encoded data removed]",
      "text/plain": [
       "<matplotlib.figure.Figure at 0x11616c160>"
      ]
     },
     "metadata": {},
     "output_type": "display_data"
    }
   ],
   "source": [
    "import matplotlib.pyplot as plt\n",
    "plt.plot(chain4_sigma_X)"
   ]
  },
  {
   "cell_type": "markdown",
   "metadata": {},
   "source": [
    "Testing difference between JIT and the original takes extremely long time, but the results do not show much difference. Thus in this case, using JIT is not appropriate. Since we are measuring a quite long running program, it may take some time for the JIT to warm up and this may cause the difference. While the effect of JIT is not that impressive, we can try to count on CPython which is generally more optimized.The JIT is generally good at speeding up straight-forward Python code that spends a lot of time in the bytecode dispatch loop, i.e., running actual Python code – as opposed to running things that only are invoked by Python code. When the JIT cannot help, we could use CPython."
   ]
  },
  {
   "cell_type": "markdown",
   "metadata": {
    "collapsed": true
   },
   "source": [
    "\n",
    "Conclusion: There seems to be little difference between JIT version and the original version."
   ]
  },
  {
   "cell_type": "markdown",
   "metadata": {},
   "source": [
    "**Part VII: Conclusions**"
   ]
  },
  {
   "cell_type": "code",
   "execution_count": null,
   "metadata": {
    "collapsed": true
   },
   "outputs": [],
   "source": []
  },
  {
   "cell_type": "code",
   "execution_count": null,
   "metadata": {
    "collapsed": true
   },
   "outputs": [],
   "source": []
  },
  {
   "cell_type": "markdown",
   "metadata": {},
   "source": [
    "**References**"
   ]
  },
  {
   "cell_type": "markdown",
   "metadata": {},
   "source": [
    "[1] Griffiths, Thomas L., and Zoubin Ghahramani. \"The indian buffet process: An introduction and review.\" The Journal of Machine Learning Research 12 (2011): 1185-1224."
   ]
  },
  {
   "cell_type": "code",
   "execution_count": null,
   "metadata": {
    "collapsed": true
   },
   "outputs": [],
   "source": []
  },
  {
   "cell_type": "code",
   "execution_count": null,
   "metadata": {
    "collapsed": true
   },
   "outputs": [],
   "source": []
  },
  {
   "cell_type": "code",
   "execution_count": null,
   "metadata": {
    "collapsed": true
   },
   "outputs": [],
   "source": []
  }
 ],
 "metadata": {
  "kernelspec": {
   "display_name": "Python 3",
   "language": "python",
   "name": "python3"
  },
  "language_info": {
   "codemirror_mode": {
    "name": "ipython",
    "version": 3
   },
   "file_extension": ".py",
   "mimetype": "text/x-python",
   "name": "python",
   "nbconvert_exporter": "python",
   "pygments_lexer": "ipython3",
   "version": "3.5.1"
  }
 },
 "nbformat": 4,
 "nbformat_minor": 0
}
